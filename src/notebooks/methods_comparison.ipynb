{
 "cells": [
  {
   "cell_type": "markdown",
   "source": [
    "# Porównanie rezulatów\n",
    "## Autorzy:\n",
    "- Jędrzej Warczyński 148234\n",
    "- Uladzislau Abeziuk 150243"
   ],
   "metadata": {
    "collapsed": false
   }
  },
  {
   "cell_type": "markdown",
   "source": [
    "## Wykorzystane biblioteki"
   ],
   "metadata": {
    "collapsed": false
   }
  },
  {
   "cell_type": "code",
   "execution_count": 34,
   "metadata": {
    "collapsed": true,
    "ExecuteTime": {
     "end_time": "2023-06-12T20:11:42.330916400Z",
     "start_time": "2023-06-12T20:11:42.329490700Z"
    }
   },
   "outputs": [
    {
     "name": "stderr",
     "output_type": "stream",
     "text": [
      "Intel(R) Extension for Scikit-learn* enabled (https://github.com/intel/scikit-learn-intelex)\n"
     ]
    }
   ],
   "source": [
    "import cv2\n",
    "import csv\n",
    "import numpy as np\n",
    "from tqdm import tqdm\n",
    "from matplotlib import pyplot as plt\n",
    "import keras\n",
    "import pickle\n",
    "\n",
    "\n",
    "from sklearnex import patch_sklearn\n",
    "patch_sklearn()\n",
    "\n",
    "\n",
    "from python_files.feature_extractor import FeatureExtractor\n",
    "from python_files.recognition import preprocess, apply_fov_mask, segment_vessels\n",
    "from python_files.metrics_visualizer import MetricsVisualizer\n",
    "from python_files.constants import *"
   ]
  },
  {
   "cell_type": "markdown",
   "source": [
    "## Obrazy testowe"
   ],
   "metadata": {
    "collapsed": false
   }
  },
  {
   "cell_type": "code",
   "execution_count": 2,
   "outputs": [
    {
     "name": "stdout",
     "output_type": "stream",
     "text": [
      "['14_g.jpg', '14_h.jpg', '15_dr.JPG', '15_g.jpg', '15_h.jpg']\n"
     ]
    }
   ],
   "source": [
    "file_names.sort()\n",
    "test_file_names = file_names[-5:]\n",
    "print(test_file_names)"
   ],
   "metadata": {
    "collapsed": false
   }
  },
  {
   "cell_type": "markdown",
   "source": [
    "## Wczytanie masek eskperckich"
   ],
   "metadata": {
    "collapsed": false
   }
  },
  {
   "cell_type": "code",
   "execution_count": 11,
   "outputs": [
    {
     "name": "stdout",
     "output_type": "stream",
     "text": [
      "(2336, 3504)\n"
     ]
    }
   ],
   "source": [
    "expert_masks = {}\n",
    "for file in test_file_names:\n",
    "    mask_name = file.split('.')[0] + '.tif'\n",
    "    path = os.path.join(MANUAL_FOLDER, mask_name)\n",
    "    expert_masks[file] = cv2.imread(path, cv2.IMREAD_GRAYSCALE)\n",
    "\n",
    "print(expert_masks[test_file_names[0]].shape)"
   ],
   "metadata": {
    "collapsed": false,
    "ExecuteTime": {
     "end_time": "2023-06-12T18:56:17.393632Z",
     "start_time": "2023-06-12T18:56:17.290332700Z"
    }
   }
  },
  {
   "cell_type": "markdown",
   "source": [
    "## Scieżki do modeli"
   ],
   "metadata": {
    "collapsed": false
   }
  },
  {
   "cell_type": "code",
   "execution_count": null,
   "outputs": [],
   "source": [
    "u_net_model_path = os.path.join(MODELS_FOLDER, \"U_net_model_vessels\")\n",
    "random_forest_model_path = os.path.join(MODELS_FOLDER, \"random_forest_model\")"
   ],
   "metadata": {
    "collapsed": false
   }
  },
  {
   "cell_type": "markdown",
   "source": [
    "## Przygotowanie danych do predykcji przez model U-net"
   ],
   "metadata": {
    "collapsed": false
   }
  },
  {
   "cell_type": "code",
   "execution_count": 4,
   "outputs": [
    {
     "name": "stderr",
     "output_type": "stream",
     "text": [
      "100%|██████████| 5/5 [00:00<00:00, 10.41it/s]\n"
     ]
    }
   ],
   "source": [
    "X_test = np.zeros((TEST_SIZE, *IMG_SHAPE), dtype=np.uint8)\n",
    "Y_test = np.zeros((TEST_SIZE, *IMG_SHAPE[:2], 1), dtype=np.uint8)\n",
    "\n",
    "for i, filename in tqdm(enumerate(test_file_names), total=TEST_SIZE):\n",
    "  img_path = os.path.join(IMAGES_FOLDER, filename)\n",
    "  manual_path = os.path.join(MANUAL_FOLDER, filename.split('.')[0] + '.tif')\n",
    "\n",
    "  X_test[i] = cv2.imread(img_path)\n",
    "  Y_test[i] = np.expand_dims(cv2.imread(manual_path, cv2.IMREAD_GRAYSCALE),-1)"
   ],
   "metadata": {
    "collapsed": false,
    "ExecuteTime": {
     "end_time": "2023-06-12T18:47:11.820026600Z",
     "start_time": "2023-06-12T18:47:11.333502400Z"
    }
   }
  },
  {
   "cell_type": "code",
   "execution_count": 15,
   "outputs": [
    {
     "name": "stdout",
     "output_type": "stream",
     "text": [
      "(5, 2336, 3504, 3)\n"
     ]
    }
   ],
   "source": [
    "print(X_test.shape)"
   ],
   "metadata": {
    "collapsed": false,
    "ExecuteTime": {
     "end_time": "2023-06-12T19:04:21.344236100Z",
     "start_time": "2023-06-12T19:04:21.334501700Z"
    }
   }
  },
  {
   "cell_type": "markdown",
   "source": [
    "### Mała weryfikacja poprawności wczytania modelu"
   ],
   "metadata": {
    "collapsed": false
   }
  },
  {
   "cell_type": "code",
   "execution_count": 5,
   "outputs": [
    {
     "name": "stdout",
     "output_type": "stream",
     "text": [
      "5/5 [==============================] - 16s 3s/step - loss: -14.6978 - accuracy: 0.9151\n"
     ]
    },
    {
     "data": {
      "text/plain": "0.9151469469070435"
     },
     "execution_count": 5,
     "metadata": {},
     "output_type": "execute_result"
    }
   ],
   "source": [
    "u_net_loaded_model = keras.models.load_model(u_net_model_path)\n",
    "_, loaded_accuracy = u_net_loaded_model.evaluate(X_test, Y_test, batch_size=1)\n",
    "loaded_accuracy"
   ],
   "metadata": {
    "collapsed": false,
    "ExecuteTime": {
     "end_time": "2023-06-12T18:47:29.079336Z",
     "start_time": "2023-06-12T18:47:11.818845600Z"
    }
   }
  },
  {
   "cell_type": "markdown",
   "source": [
    "## Predykcja przez model U-net"
   ],
   "metadata": {
    "collapsed": false
   }
  },
  {
   "cell_type": "code",
   "execution_count": 6,
   "outputs": [
    {
     "name": "stdout",
     "output_type": "stream",
     "text": [
      "5/5 [==============================] - 16s 3s/step\n"
     ]
    },
    {
     "data": {
      "text/plain": "(5, 2336, 3504, 1)"
     },
     "execution_count": 6,
     "metadata": {},
     "output_type": "execute_result"
    }
   ],
   "source": [
    "loaded_model_predictions = u_net_loaded_model.predict(X_test, batch_size=1)\n",
    "loaded_model_predictions.shape"
   ],
   "metadata": {
    "collapsed": false,
    "ExecuteTime": {
     "end_time": "2023-06-12T18:48:54.338186100Z",
     "start_time": "2023-06-12T18:48:37.835279500Z"
    }
   }
  },
  {
   "cell_type": "markdown",
   "source": [
    "## Przygotowanie predykcji do porównania (transofrmacja wymiarów normalizacja do 0-255)"
   ],
   "metadata": {
    "collapsed": false
   }
  },
  {
   "cell_type": "code",
   "execution_count": 7,
   "outputs": [
    {
     "data": {
      "text/plain": "(5, 2336, 3504, 1)"
     },
     "execution_count": 7,
     "metadata": {},
     "output_type": "execute_result"
    }
   ],
   "source": [
    "predictions_pixels = (loaded_model_predictions > 0.5).astype(np.uint8)\n",
    "predictions_pixels.shape"
   ],
   "metadata": {
    "collapsed": false,
    "ExecuteTime": {
     "end_time": "2023-06-12T18:49:13.403602900Z",
     "start_time": "2023-06-12T18:49:13.341540600Z"
    }
   }
  },
  {
   "cell_type": "code",
   "execution_count": 8,
   "outputs": [
    {
     "name": "stdout",
     "output_type": "stream",
     "text": [
      "(2336, 3504)\n"
     ]
    }
   ],
   "source": [
    "prediction_masks = {}\n",
    "for i, test_file_name in enumerate(test_file_names):\n",
    "    reshaped_prediction = np.reshape(predictions_pixels[i], IMG_SHAPE[:2])\n",
    "    reshaped_prediction = reshaped_prediction * 255\n",
    "    prediction_masks[test_file_name] = reshaped_prediction\n",
    "\n",
    "print(prediction_masks[test_file_names[0]].shape)"
   ],
   "metadata": {
    "collapsed": false,
    "ExecuteTime": {
     "end_time": "2023-06-12T18:53:13.506291Z",
     "start_time": "2023-06-12T18:53:13.450837100Z"
    }
   }
  },
  {
   "cell_type": "markdown",
   "source": [
    "## Wyznaczenie metryk dla modelu U-net"
   ],
   "metadata": {
    "collapsed": false
   }
  },
  {
   "cell_type": "code",
   "execution_count": null,
   "outputs": [],
   "source": [
    "metrics = MetricsVisualizer()\n",
    "for file in test_file_names:\n",
    "    metrics.calculate_metrics(expert_masks[file], prediction_masks[file], file)"
   ],
   "metadata": {
    "collapsed": false
   }
  },
  {
   "cell_type": "markdown",
   "source": [
    "## Wczytanie modelu lasu losowego"
   ],
   "metadata": {
    "collapsed": false
   }
  },
  {
   "cell_type": "code",
   "execution_count": 0,
   "outputs": [],
   "source": [
    "random_forest_model = pickle.load(open(random_forest_model_path, 'rb'))\n",
    "rfc_preprocessed_test_images = []\n",
    "rfc_test_features = []"
   ],
   "metadata": {
    "collapsed": false
   }
  },
  {
   "cell_type": "markdown",
   "source": [
    "## Przygotowanie danych do predykcji przez model lasu losowego - ekstrackcja cech"
   ],
   "metadata": {
    "collapsed": false
   }
  },
  {
   "cell_type": "code",
   "execution_count": 20,
   "outputs": [
    {
     "name": "stderr",
     "output_type": "stream",
     "text": [
      "100%|██████████| 5/5 [00:29<00:00,  5.84s/it]\n"
     ]
    }
   ],
   "source": [
    "for test_img in tqdm(X_test, total=TEST_SIZE):\n",
    "    rfc_preprocessed_test_image = preprocess(test_img)\n",
    "    rfc_preprocessed_test_images.append(rfc_preprocessed_test_image)\n",
    "    test_img_feature_extractor = FeatureExtractor(rfc_preprocessed_test_image)\n",
    "    rfc_test_features.append(test_img_feature_extractor.extract_features())"
   ],
   "metadata": {
    "collapsed": false,
    "ExecuteTime": {
     "end_time": "2023-06-12T19:12:29.028175600Z",
     "start_time": "2023-06-12T19:11:59.535055300Z"
    }
   }
  },
  {
   "cell_type": "markdown",
   "source": [
    "## Predykcja przez model lasu losowego"
   ],
   "metadata": {
    "collapsed": false
   }
  },
  {
   "cell_type": "code",
   "execution_count": 22,
   "outputs": [
    {
     "name": "stderr",
     "output_type": "stream",
     "text": [
      "100%|██████████| 5/5 [12:41<00:00, 152.31s/it]\n"
     ]
    }
   ],
   "source": [
    "random_forest_masks = []\n",
    "for i, test_feature in tqdm(enumerate(rfc_test_features), total=5):\n",
    "    test_img_segmented = random_forest_model.predict(test_feature)\n",
    "    test_img_segmented = test_img_segmented.reshape(X_test[i].shape[:2])\n",
    "    # test_img_segmented = apply_fov_mask(test_img_segmented, test_fov_masks[i])\n",
    "    random_forest_masks.append(test_img_segmented)"
   ],
   "metadata": {
    "collapsed": false,
    "ExecuteTime": {
     "end_time": "2023-06-12T19:35:03.974352700Z",
     "start_time": "2023-06-12T19:22:22.315349500Z"
    }
   }
  },
  {
   "cell_type": "markdown",
   "source": [
    "## Wyznaczenie metryk dla modelu lasu losowego"
   ],
   "metadata": {
    "collapsed": false
   }
  },
  {
   "cell_type": "code",
   "execution_count": null,
   "outputs": [],
   "source": [
    "rfc_metrics = MetricsVisualizer()\n",
    "for i, file in enumerate(test_file_names):\n",
    "    rfc_metrics.calculate_metrics(expert_masks[file], random_forest_masks[i], file)"
   ],
   "metadata": {
    "collapsed": false
   }
  },
  {
   "cell_type": "markdown",
   "source": [
    "## Segmentacja tradycyjnymi metodami i obliczenie metryk"
   ],
   "metadata": {
    "collapsed": false
   }
  },
  {
   "cell_type": "code",
   "execution_count": 26,
   "outputs": [
    {
     "name": "stderr",
     "output_type": "stream",
     "text": [
      "100%|██████████| 5/5 [01:23<00:00, 16.69s/it]\n"
     ]
    }
   ],
   "source": [
    "std_method_metrics_visualizer = MetricsVisualizer()\n",
    "std_method_masks = []\n",
    "for i, file_name in tqdm(enumerate(test_file_names), total=5):\n",
    "    fov_mask_path = os.path.join(MASK_FOLDER, file_name.split('.')[0] + '_mask.tif')\n",
    "    fov_mask = cv2.imread(fov_mask_path, cv2.IMREAD_GRAYSCALE)\n",
    "\n",
    "    segmentation_mask = segment_vessels(X_test[i], fov_mask)\n",
    "    std_method_masks.append(segmentation_mask)\n",
    "    std_method_metrics_visualizer.calculate_metrics(expert_masks[file_name], segmentation_mask, file_name)"
   ],
   "metadata": {
    "collapsed": false,
    "ExecuteTime": {
     "end_time": "2023-06-12T19:38:16.592949600Z",
     "start_time": "2023-06-12T19:36:53.142290100Z"
    }
   }
  },
  {
   "cell_type": "code",
   "execution_count": 29,
   "outputs": [],
   "source": [
    "accuracies = [std_method_metrics_visualizer.accuracy, rfc_metrics.accuracy, metrics.accuracy]\n",
    "sensitivities = [std_method_metrics_visualizer.sensitivity, rfc_metrics.sensitivity, metrics.sensitivity]\n",
    "specificities = [std_method_metrics_visualizer.specificity, rfc_metrics.specificity, metrics.specificity]"
   ],
   "metadata": {
    "collapsed": false,
    "ExecuteTime": {
     "end_time": "2023-06-12T19:40:18.457817800Z",
     "start_time": "2023-06-12T19:40:18.444762100Z"
    }
   }
  },
  {
   "cell_type": "markdown",
   "source": [
    "## Wizualizacja porównawcza metryk"
   ],
   "metadata": {
    "collapsed": false
   }
  },
  {
   "cell_type": "code",
   "execution_count": 30,
   "outputs": [],
   "source": [
    "def bar_plot(ax, data, filenames, labels, title, ylabel):\n",
    "    width = 0.20\n",
    "    ind = np.arange(len(filenames))\n",
    "\n",
    "    rects1 = ax.bar(ind - width, data[0], width, label=labels[0])\n",
    "    rects2 = ax.bar(ind, data[1], width, label=labels[1])\n",
    "    rects2 = ax.bar(ind + width, data[2], width, label=labels[2])\n",
    "\n",
    "    ax.set_xticks(ind)\n",
    "    ax.set_xticklabels(filenames)\n",
    "\n",
    "    ax.set_ylabel(ylabel)\n",
    "    ax.set_title(title)\n",
    "    if ylabel == \"Accuracy\":\n",
    "        ax.legend(loc='upper center', bbox_to_anchor=(1.70, -0.07))\n",
    "\n",
    "    return ax"
   ],
   "metadata": {
    "collapsed": false
   }
  },
  {
   "cell_type": "code",
   "execution_count": 31,
   "outputs": [
    {
     "data": {
      "text/plain": "<Figure size 1800x600 with 3 Axes>",
      "image/png": "[encoded data removed]"
     },
     "metadata": {},
     "output_type": "display_data"
    }
   ],
   "source": [
    "fig, axes = plt.subplots(1, 3, figsize=(18, 6))\n",
    "filenames = expert_masks.keys()\n",
    "labels = [\"Standard methods\", \"Random forest model\", \"U-Net model\"]\n",
    "title = \"Accuracy of models\"\n",
    "\n",
    "bar_plot(axes[0], accuracies, test_file_names, labels, \"Accuracy of models\", \"Accuracy\")\n",
    "bar_plot(axes[1], sensitivities, test_file_names, labels, \"Sensitivity of models\", \"Sensitivity\")\n",
    "bar_plot(axes[2], specificities, test_file_names, labels, \"Specificity of models\", \"Specificity\")\n",
    "plt.show()"
   ],
   "metadata": {
    "collapsed": false,
    "ExecuteTime": {
     "end_time": "2023-06-12T19:43:10.320235900Z",
     "start_time": "2023-06-12T19:43:10.017279300Z"
    }
   }
  },
  {
   "cell_type": "markdown",
   "source": [
    "## Zapisanie metryk do pliku"
   ],
   "metadata": {
    "collapsed": false
   }
  },
  {
   "cell_type": "code",
   "execution_count": 39,
   "outputs": [],
   "source": [
    "result_path = os.path.join(RESULTS_FOLDER, \"metrics.csv\")\n",
    "methods = [\"Traditional_methods\", \"Random_forest_model\", \"U_Net_model\"]\n",
    "\n",
    "with open(result_path, mode='w', newline='') as file:\n",
    "    writer = csv.writer(file)\n",
    "\n",
    "    headers = ['Model', 'File', 'Accuracy', 'Sensitivity', 'Specificity']\n",
    "    writer.writerow(headers)\n",
    "\n",
    "    for i in range(len(accuracies)):\n",
    "        model_name = methods[i]\n",
    "        accuracy_values = accuracies[i]\n",
    "        sensitivity_values = sensitivities[i]\n",
    "        specificity_values = specificities[i]\n",
    "\n",
    "        for j in range(len(test_file_names)):\n",
    "            file_name = file_names[j]\n",
    "            accuracy = accuracy_values[j]\n",
    "            sensitivity = sensitivity_values[j]\n",
    "            specificity = specificity_values[j]\n",
    "\n",
    "            row = [model_name, file_name, accuracy, sensitivity, specificity]\n",
    "            writer.writerow(row)"
   ],
   "metadata": {
    "collapsed": false,
    "ExecuteTime": {
     "end_time": "2023-06-12T20:12:53.754746400Z",
     "start_time": "2023-06-12T20:12:53.750014200Z"
    }
   }
  },
  {
   "cell_type": "markdown",
   "source": [
    "## Podsumowanie"
   ],
   "metadata": {
    "collapsed": false
   }
  },
  {
   "cell_type": "markdown",
   "source": [
    "W analizie trzech modeli: Tradycyjny model przetwarzania obrazu, Random Forest Model i U-Net Model, wszystkie modele wykazały wysoką dokładność w przewidywaniu wyników na podstawie analizy obrazów.\n",
    "\n",
    "Model Tradycyjny osiągnął średnią dokładność na poziomie około 95%. Czułość tego modelu wahają się między 64% a 72%, co oznacza, że był w stanie poprawnie zidentyfikować większość pozytywnych przypadków. Wartości specyficzności dla tego modelu wynosiły średnio powyżej 97%, co sugeruje, że był on skuteczny w identyfikacji negatywnych przypadków, co jednak wynika z dużego nizbalansowania dancyh.\n",
    "\n",
    "Random Forest Model osiągnął nieco niższą średnią dokładność, wynoszącą około 89%. Jednak wartości czułości dla tego modelu były wyraźnie wyższe, oscylujące wokół 81%. Wartości specyficzności utrzymywały się na poziomie powyżej 88%. Oznacza to, że model ten był bardziej skłonny do klasyfikowania przypadków jako negatywne, co wpływało na jego czułość.\n",
    "\n",
    "Najlepsze wyniki dokładności uzyskano dla modelu U-Net, który osiągnął wysoką dokładność na poziomie powyżej 96%. Model ten wykazał również wysoką czułość, wynoszącą około 69%. Wartości specyficzności dla tego modelu utrzymywały się na poziomie powyżej 98%. Może to sugerować, że model U-Net był skuteczny zarówno w identyfikacji pozytywnych przypadków, jak i negatywnych przypadków.\n",
    "\n",
    "Podsumowując, wydaję się, że model U-net zdominował model Random Forest, dla wszytskich metryk jego wyniki było średnio wyżśze od mmodelu Random Forest, tylko w kilku przypadkach wyniki były gorsze.\n",
    "Tradycyjne metody przetwarzania obrazu wykazały się za to najlepszą czułością, jednak dokładność i specyficzność były niższe niż w przypadku modeli opartych o uczenie maszynowe."
   ],
   "metadata": {
    "collapsed": false
   }
  }
 ],
 "metadata": {
  "kernelspec": {
   "display_name": "Python 3",
   "language": "python",
   "name": "python3"
  },
  "language_info": {
   "codemirror_mode": {
    "name": "ipython",
    "version": 2
   },
   "file_extension": ".py",
   "mimetype": "text/x-python",
   "name": "python",
   "nbconvert_exporter": "python",
   "pygments_lexer": "ipython2",
   "version": "2.7.6"
  }
 },
 "nbformat": 4,
 "nbformat_minor": 0
}
